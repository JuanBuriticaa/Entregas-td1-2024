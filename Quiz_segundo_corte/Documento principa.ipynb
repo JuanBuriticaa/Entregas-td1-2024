{
 "cells": [
  {
   "cell_type": "markdown",
   "metadata": {},
   "source": [
    "Quiz 2 corte Toma de desisiones 2024-1 "
   ]
  },
  {
   "cell_type": "markdown",
   "metadata": {},
   "source": [
    "\n",
    "\n",
    "1. ETL de según código base:\n",
    "    a. Crear una función que recibirá como parámetro un DF y deberá retornar un DF con una columna adicional \n",
    "    (peso=2.0)\n",
    "\n",
    "    Condiciones: \n",
    "    \n",
    "    i.\tsepal length (cm)>=5.1\n",
    "\n",
    "    ii.\tsepal width (cm)>= 3.5\n",
    "\n",
    "    iii.petal length (cm)>=1.3\n",
    "    \n",
    "    iv.\tpetal width (cm)<= 0.2\n"
   ]
  },
  {
   "cell_type": "code",
   "execution_count": null,
   "metadata": {},
   "outputs": [],
   "source": [
    "import pandas as pd\n",
    "import numpy as np\n",
    "import seaborn as sns\n",
    "import matplotlib.pyplot as plt\n",
    "from sklearn.datasets import load_iris\n",
    "\n",
    "pd.set_option(\"display.max_columns\",None)\n",
    "\n",
    "iris = load_iris()\n",
    "daf = pd.DataFrame(data= np.c_[iris['data'], iris['target']], columns= iris['feature_names'] + ['target'])\n",
    "#La funcion selección \n",
    "def seleccion(df):\n",
    "    for i in range (len(daf)):\n",
    "        if daf.iloc[i]['sepal length (cm)']>=5.1 and daf.iloc[i][\"sepal width (cm)\"]>=3.5 and daf.iloc[i][\"petal length (cm)\"]>=1.3 and daf.iloc[i][\"petal width (cm)\"]<=0.2:\n",
    "            daf.at[i,\"Flor\"]=\"Es clavel\"\n",
    "            daf.at[i,\"Numero\"]=1\n",
    "        else:\n",
    "            daf.at[i,\"Flor\"]=\"No es clavel\"\n",
    "            daf.at[i,\"Numero\"]=0\n",
    "    print(daf)\n",
    "    daf.to_csv(\"df_con_restriccion\")\n",
    "    conteo = daf['Flor'].value_counts()['Es clavel']\n",
    "    conteo1= -conteo+150\n",
    "    porcentaje=(conteo/conteo1)*100\n",
    "    print (\"el numero de claveles es\", conteo, \"el resto de datos\", conteo1, \"no lo son, debido a que no cumplen con las condiciones optimas de tamaño, es decir el\", porcentaje, \"%\")\n",
    "\n",
    "seleccion(daf)\n"
   ]
  },
  {
   "cell_type": "markdown",
   "metadata": {},
   "source": [
    "2.\tEDA según el DF resultante :                                                                                             (peso=2.0)\n",
    "\n",
    "    a.\tGráficas.\n",
    "\n",
    "    b.\tConcluir con respecto a las gráficas.\n",
    "\n",
    "    c.\tlnsights del análisis realizado.\n",
    "    \n"
   ]
  },
  {
   "cell_type": "markdown",
   "metadata": {},
   "source": [
    "A. Grafica de torta"
   ]
  },
  {
   "cell_type": "code",
   "execution_count": null,
   "metadata": {},
   "outputs": [],
   "source": [
    "columnas_seleccionadas = ['sepal length (cm)', 'sepal width (cm)', 'petal length (cm)', 'petal width (cm)']\n",
    "hola= daf[columnas_seleccionadas]\n",
    "\n",
    "plt.figure(figsize=(8, 6))\n",
    "daf['Flor'].value_counts().plot.pie(autopct='%1.1f%%', startangle=90)\n",
    "plt.title('Diagrama de Torta para distribución de Columna Categórica', fontsize=16)\n",
    "plt.ylabel('')  # Eliminar etiqueta del eje y\n",
    "plt.show()"
   ]
  },
  {
   "cell_type": "markdown",
   "metadata": {},
   "source": [
    "B. Diagrama de cajas"
   ]
  },
  {
   "cell_type": "code",
   "execution_count": null,
   "metadata": {},
   "outputs": [],
   "source": [
    "\n",
    "plt.figure(figsize=(10, 8))\n",
    "sns.boxplot(data=hola)\n",
    "plt.title('Diagrama de caja para cada columna', fontsize=16)\n",
    "plt.show()"
   ]
  },
  {
   "cell_type": "markdown",
   "metadata": {},
   "source": [
    "3.\tPor lo menos deberán hacer 3 commits y cada uno 1 como mínimo \n",
    "    (peso=1.0)"
   ]
  }
 ],
 "metadata": {
  "kernelspec": {
   "display_name": "Python 3",
   "language": "python",
   "name": "python3"
  },
  "language_info": {
   "codemirror_mode": {
    "name": "ipython",
    "version": 3
   },
   "file_extension": ".py",
   "mimetype": "text/x-python",
   "name": "python",
   "nbconvert_exporter": "python",
   "pygments_lexer": "ipython3",
   "version": "3.12.2"
  }
 },
 "nbformat": 4,
 "nbformat_minor": 2
}
